{
 "cells": [
  {
   "cell_type": "markdown",
   "id": "499e926a",
   "metadata": {},
   "source": [
    "# **CIKG** Proof of Concept\n",
    "**_Example on MNIST dataset_**\n",
    "\n",
    "This notebook provides a proof of concept for the CIKG framework under the following assumptions:\n",
    "\n",
    "- The domain of interest of all the involved classifiers is defined by the MNIST Dataset;\n",
    "\n",
    "- The set of Machine Learning models is composed by 10 classifiers: one per each digit of the MNIST dataset, i.e., one classifier that recognizes zeroes, one that recognizes ones, and so on;\n",
    "\n",
    "- The Ontology alphabet contains exactly one unary predicate per each digit (Zero, One, Two, ..., Nine), and the logical theory is empty, i.e. there are no axioms in the ontology;\n",
    "\n",
    "- The interpretation of each unary predicate is defined by the corresponding classifier (?)\n",
    "\n",
    "In this notebook, we investgate the problem of query answering in two different scenarios: one in which the classifiers are Single-Layer Perceptrons (SLPs), and one in which they are Multi-Layer Percepotrons (MLPs).\n",
    "\n",
    "The presented experiments are structured as follows:\n",
    "\n",
    "1. Load 10 SLPs and 10 MLPs for the MNIST classification problem (pre-trained through scr/training-script.py)\n",
    "\n",
    "2. Define the queries and compute an answer for them"
   ]
  },
  {
   "cell_type": "markdown",
   "id": "0f4a4b35",
   "metadata": {},
   "source": [
    "# Load the models"
   ]
  },
  {
   "cell_type": "code",
   "execution_count": 1,
   "id": "8e66bfb9",
   "metadata": {},
   "outputs": [],
   "source": [
    "from src.train import *\n",
    "from src.solver import *"
   ]
  },
  {
   "cell_type": "code",
   "execution_count": 2,
   "id": "7b6e6863",
   "metadata": {},
   "outputs": [
    {
     "name": "stdout",
     "output_type": "stream",
     "text": [
      "Using PyTorch version: 2.7.0+cu128\n",
      "Using GPU, device name: NVIDIA GeForce RTX 3060\n"
     ]
    }
   ],
   "source": [
    "device = detectDevice()\n",
    "[test_dataset, test_loader, posTests] = setTestDatasets()\n",
    "[train_dataset, train_loader] = setTrainDatasets()"
   ]
  },
  {
   "cell_type": "code",
   "execution_count": 3,
   "id": "04b617ad",
   "metadata": {},
   "outputs": [
    {
     "name": "stdout",
     "output_type": "stream",
     "text": [
      "loaded classifier model for 0\n",
      "loaded classifier model for 1\n",
      "loaded classifier model for 2\n",
      "loaded classifier model for 3\n",
      "loaded classifier model for 4\n",
      "loaded classifier model for 5\n",
      "loaded classifier model for 6\n",
      "loaded classifier model for 7\n",
      "loaded classifier model for 8\n",
      "loaded classifier model for 9\n"
     ]
    }
   ],
   "source": [
    "SLPmodels = loadModels('SLP', device)\n",
    "#testModels(SLPmodels, test_loader)"
   ]
  },
  {
   "cell_type": "code",
   "execution_count": 4,
   "id": "1ba6889a",
   "metadata": {},
   "outputs": [
    {
     "name": "stdout",
     "output_type": "stream",
     "text": [
      "loaded classifier model for 0\n",
      "loaded classifier model for 1\n",
      "loaded classifier model for 2\n",
      "loaded classifier model for 3\n",
      "loaded classifier model for 4\n",
      "loaded classifier model for 5\n",
      "loaded classifier model for 6\n",
      "loaded classifier model for 7\n",
      "loaded classifier model for 8\n",
      "loaded classifier model for 9\n"
     ]
    }
   ],
   "source": [
    "MLPmodels = loadModels('MLP', device)\n",
    "#testModels(MLPmodels, test_loader)"
   ]
  },
  {
   "cell_type": "markdown",
   "id": "27e6c965",
   "metadata": {},
   "source": [
    "# Query the models"
   ]
  },
  {
   "cell_type": "code",
   "execution_count": 5,
   "id": "a73d00a7",
   "metadata": {},
   "outputs": [
    {
     "name": "stdout",
     "output_type": "stream",
     "text": [
      "sat\n"
     ]
    },
    {
     "data": {
      "image/png": "[encoded data removed]",
      "text/plain": [
       "<Figure size 640x480 with 1 Axes>"
      ]
     },
     "metadata": {},
     "output_type": "display_data"
    },
    {
     "name": "stdout",
     "output_type": "stream",
     "text": [
      "[0, 0, 0, 0, 0, 0, 0, 0, 0, 0, 0, 0, 0, 0, 0, 0, 0, 0, 0, 0, 0, 0, 0, 0, 0, 0, 0, 0, 0, 0, 0, 0, 0, 0, 0, 0, 0, 0, 0, 0, 0, 0, 0, 0, 0, 0, 0, 0, 0, 0, 0, 0, 0, 0, 0, 0, 0, 0, 0, 0, 0, 0, 0, 0, 0, 0, 0, 0, 0, 0, 0, 0, 0, 0, 0, 0, 0, 0, 0, 0, 0, 0, 0, 0, 0, 0, 0, 0, 0, 0, 0, 0, 0, 0, 0, 0, 0, 0, 0, 0, 0, 0, 0, 0, 0, 0, 0, 0, 0, 0, 0, 0, 0, 0, 0, 0, 0, 0, 0, 0, 0, 0, 0, 0, 0, 0, 0, 0, 0, 0, 0, 0, 0, 0, 0, 0, 0, 0, 0, 0, 0, 0, 0, 0, 0, 0, 0, 0, 0, 0, 0, 0, 0, 0, 0, 0, 0, 0, 0, 0, 0, 0, 0, 0, 0, 0, 0, 0, 0, 0, 0, 0, 0, 0, 0, 0, 0, 0, 0, 0, 0, 0, 0, 0, 0, 0, 0, 0, 0, 0, 0, 0, 0, 0, 0, 0, 0, 0, 0, 0, 0, 0, 0, 0, 0, 0, 0, 0, 0, 0, 0, 0, 0, 0, 0, 0, 0, 0, 0, 0, 0, 0, 0, 0, 0, 0, 0, 0, 0, 0, 0, 0, 0, 0, 0, 0, 0, 0, 0, 0, 0, 0, 0, 0, 0, 0, 0, 0, 0, 0, 0, 0, 0, 0, 0, 0, 0, 0, 0, 0, 0, 0, 0, 0, 0, 0, 0, 0, 0, 0, 0, 0, 0, 0, 0, 0, 0, 0, 0, 0, 0, 0, 0, 0, 0, 0, 0, 0, 0, 0, 0, 0, 0, 0, 0, 0, 0, 0, 0, 0, 0, 0, 0, 0, 0, 0, 0, 0, 0, 0, 0, 0, 0, 0, 0, 0, 0, 0, 0, 0, 0, 0, 0, 0, 0, 0, 0, 0, 0, 0, 0, 0, 0, 0, 0, 0, 0, 0, 0, 0, 0, 0, 0, 0, 0, 0, 0, 0, 0, 0, 0, 0, 0, 0, 0, 0, 0, 0, 0, 0, 0, 0, 0, 0, 0, 0, 0, 0, 0, 0, 0, 0, 0, 0, 0, 0, 0, 0, 0, 0, 0, 0, 0, 0, 0, 0, 0, 0, 0, 0, 0, 0, 0, 0, 0, 0, 0, 0, 0, 0, 0, 0, 0, 0, 0, 0, 0, 0, 0, 0, 0, 0, 0, 0, 0, 0, 0, 0, 0, 0, 0, 0, 0, 0, 0, 0, 0, 0, 0, 0, 0, 0, 0, 0, 0, 0, 0, 0, 0, 0, 0, 0, 0, 0, 0, 0, 0, 0, 0, 0, 0, 0, 0, 0, 0, 0, 0, 0, 0, 0, 0, 0, 0, 0, 0, 0, 0, 0, 0, 0, 0, 0, 0, 0, 0, 0, 0, 0, 0, 0, 0, 0, 0, 0, 0, 0, 0, 0, 0, 0, 0, 0, 0, 0, 0, 0, 0, 0, 0, 0, 0, 0, 0, 0, 0, 0, 0, 0, 0, 0, 0, 0, 0, 0, 0, 0, 0, 0, 0, 0, 0, 0, 0, 0, 0, 0, 0, 0, 0, 0, 0, 0, 0, 0, 0, 0, 0, 0, 0, 0, 0, 0, 0, 0, 0, 0, 0, 0, 0, 0, 0, 0, 0, 0, 0, 0, 0, 0, 0, 0, 0, 0, 0, 0, 0, 0, 0, 0, 0, 0, 0, 0, 0, 0, 0, 0, 0, 0, 0, 0, 0, 0, 0, 0, 0, 0, 0, 0, 0, 0, 0, 0, 0, 0, 0, 0, 0, 0, 0, 0, 0, 0, 0, 0, 0, 0, 0, 0, 0, 0, 0, 0, 0, 0, 0, 0, 0, 0, 0, 0, 0, 0, 0, 0, 0, 0, 0, 0, 0, 0, 0, 0, 0, 0, 0, 0, 0, 0, 0, 0, 0, 0, 0, 0, 0, 0, 0, 0, 0, 0, 0, 0, 0, 0, 0, 0, 0, 0, 0, 0, 0, 0, 0, 0, 0, 0, 0, 0, 0, 0, 0, 0, 0, 0, 0, 0, 0, 0, 0, 0, 0, 0, 0, 0, 0, 0, 0, 0, 0, 0, 0, 0, 0, 0, 0, 0, 0, 0, 0, 0, 0, 0, 0, 0, 0, 0, 0, 0, 0, 0, 0, 0, 0, 0, 0, 0, 0, 0, 0, 0, 0, 0, 0, 0, 0, 0, 0, 0, 0, 0, 0, 0, 0, 0, 0, 0, 0, 0, 0, 0, 0, 0, 0, 0, 0, 0, 0, 0, 0, 0, 0, 0, 0, 0, 0, 0, 0, 0, 0, 0, 0, 0, 0, 0, 0, 0, 0, 0, 0, 0, 0, 0, 0, 0, 0, 0, 0, 0, 0, 0, 0, 0, 0, 0]\n",
      "il classificatore dice: tensor([[0.5539]], device='cuda:0', grad_fn=<AddmmBackward0>)\n",
      "Istanza positiva di q!\n"
     ]
    }
   ],
   "source": [
    "# does a 0 exist?\n",
    "q = [SLPmodels[0]]\n",
    "\n",
    "# does a 1 exist?\n",
    "q = [SLPmodels[1]]\n",
    "\n",
    "checkSLP(q)"
   ]
  },
  {
   "cell_type": "code",
   "execution_count": null,
   "id": "0a6f6adc",
   "metadata": {},
   "outputs": [
    {
     "name": "stdout",
     "output_type": "stream",
     "text": [
      "codifico primo layer\n",
      "codifico secondo layer\n",
      "codifico terzo layer\n",
      "lancio il solver\n",
      "unsat\n"
     ]
    }
   ],
   "source": [
    "q = [MLPmodels[0]]\n",
    "checkMLP(q, 16)"
   ]
  }
 ],
 "metadata": {
  "kernelspec": {
   "display_name": "Python 3",
   "language": "python",
   "name": "python3"
  },
  "language_info": {
   "codemirror_mode": {
    "name": "ipython",
    "version": 3
   },
   "file_extension": ".py",
   "mimetype": "text/x-python",
   "name": "python",
   "nbconvert_exporter": "python",
   "pygments_lexer": "ipython3",
   "version": "3.10.5"
  }
 },
 "nbformat": 4,
 "nbformat_minor": 5
}
